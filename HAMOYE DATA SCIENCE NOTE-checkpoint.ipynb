{
 "cells": [
  {
   "cell_type": "code",
   "execution_count": 62,
   "id": "2fb5e8eb",
   "metadata": {},
   "outputs": [
    {
     "name": "stdout",
     "output_type": "stream",
     "text": [
      "[6 7 8 9]\n"
     ]
    }
   ],
   "source": [
    "import numpy as np\n",
    "import pandas as pd\n",
    "import matplotlib.pyplot as plt\n",
    "import seaborn as sn\n",
    "arr = [6,7,8,9]\n",
    "a = np.array(arr)\n",
    "print(a)"
   ]
  },
  {
   "cell_type": "code",
   "execution_count": 3,
   "id": "eb84aa83",
   "metadata": {},
   "outputs": [
    {
     "data": {
      "text/plain": [
       "(4,)"
      ]
     },
     "execution_count": 3,
     "metadata": {},
     "output_type": "execute_result"
    }
   ],
   "source": [
    "a.shape #4"
   ]
  },
  {
   "cell_type": "code",
   "execution_count": 4,
   "id": "7bb4b19d",
   "metadata": {},
   "outputs": [
    {
     "data": {
      "text/plain": [
       "dtype('int32')"
      ]
     },
     "execution_count": 4,
     "metadata": {},
     "output_type": "execute_result"
    }
   ],
   "source": [
    "a.dtype"
   ]
  },
  {
   "cell_type": "code",
   "execution_count": 7,
   "id": "aa8efaba",
   "metadata": {},
   "outputs": [
    {
     "data": {
      "text/plain": [
       "2"
      ]
     },
     "execution_count": 7,
     "metadata": {},
     "output_type": "execute_result"
    }
   ],
   "source": [
    "#Get the dimension of b with ndim\n",
    "b = np.array([[1,2,3],[4,5,6]])\n",
    "print(b.ndim)#2"
   ]
  },
  {
   "cell_type": "code",
   "execution_count": 8,
   "id": "0d793ab8",
   "metadata": {},
   "outputs": [
    {
     "name": "stdout",
     "output_type": "stream",
     "text": [
      "(2, 3)\n"
     ]
    }
   ],
   "source": [
    "print(b.shape)#(2, 3) i.e 2d array with 2 rows and 3 columns"
   ]
  },
  {
   "cell_type": "code",
   "execution_count": 9,
   "id": "47923004",
   "metadata": {},
   "outputs": [
    {
     "name": "stdout",
     "output_type": "stream",
     "text": [
      "[[0.17284743 0.02944642 0.62279639]\n",
      " [0.68784683 0.78639854 0.4842269 ]]\n"
     ]
    }
   ],
   "source": [
    "# a 2*3 array with random values\n",
    "w = np.random.random((2,3))\n",
    "print(w)"
   ]
  },
  {
   "cell_type": "code",
   "execution_count": 10,
   "id": "5aad5192",
   "metadata": {},
   "outputs": [
    {
     "name": "stdout",
     "output_type": "stream",
     "text": [
      "[[0. 0. 0.]\n",
      " [0. 0. 0.]]\n"
     ]
    }
   ],
   "source": [
    "x = np.zeros((2,3))\n",
    "print(x) #\n",
    "[[0. 0. 0.]\n",
    " [0. 0. 0.]]"
   ]
  },
  {
   "cell_type": "code",
   "execution_count": 11,
   "id": "949c4146",
   "metadata": {},
   "outputs": [
    {
     "name": "stdout",
     "output_type": "stream",
     "text": [
      "[[1. 1. 1.]\n",
      " [1. 1. 1.]]\n"
     ]
    }
   ],
   "source": [
    "y = np.ones((2,3))\n",
    "print(y)#\n",
    "[[1. 1. 1.]\n",
    " [1. 1. 1.]]\n"
   ]
  },
  {
   "cell_type": "markdown",
   "id": "d168cbea",
   "metadata": {},
   "source": [
    "VECTORIZATION IN NUMPY ARRAYS AND SCALARS"
   ]
  },
  {
   "cell_type": "code",
   "execution_count": 16,
   "id": "b9e3283c",
   "metadata": {},
   "outputs": [
    {
     "name": "stdout",
     "output_type": "stream",
     "text": [
      "[[13 13 13]\n",
      " [10 10 10]]\n"
     ]
    }
   ],
   "source": [
    "c = np.array([[9,8,7],[1,2,3]])\n",
    "d = np.array([[4,5,6],[9,8,7]])\n",
    "print(c+d) #\n",
    "[[13 13 13]\n",
    " [10 10 10]]"
   ]
  },
  {
   "cell_type": "code",
   "execution_count": 17,
   "id": "f66e69f0",
   "metadata": {},
   "outputs": [
    {
     "name": "stdout",
     "output_type": "stream",
     "text": [
      "[[ 5  3  1]\n",
      " [-8 -6 -4]]\n"
     ]
    }
   ],
   "source": [
    "c = np.array([[9,8,7],[1,2,3]])\n",
    "d = np.array([[4,5,6],[9,8,7]])\n",
    "print(c-d) # \n",
    "[[ 5  3  1]\n",
    " [-8 -6 -4]]"
   ]
  },
  {
   "cell_type": "code",
   "execution_count": 18,
   "id": "3a1cf3bf",
   "metadata": {},
   "outputs": [
    {
     "name": "stdout",
     "output_type": "stream",
     "text": [
      "[[36 40 42]\n",
      " [ 9 16 21]]\n",
      "[[1.25       1.         0.83333333]\n",
      " [0.55555556 0.625      0.71428571]]\n",
      "[[81 64 49]\n",
      " [ 1  4  9]]\n"
     ]
    }
   ],
   "source": [
    "print(c*d)\n",
    "print(5/d)\n",
    "print(c**2)"
   ]
  },
  {
   "cell_type": "code",
   "execution_count": 19,
   "id": "eb33388f",
   "metadata": {},
   "outputs": [
    {
     "data": {
      "text/plain": [
       "6"
      ]
     },
     "execution_count": 19,
     "metadata": {},
     "output_type": "execute_result"
    }
   ],
   "source": [
    "a[0]"
   ]
  },
  {
   "cell_type": "code",
   "execution_count": 20,
   "id": "52c474ec",
   "metadata": {},
   "outputs": [
    {
     "data": {
      "text/plain": [
       "9"
      ]
     },
     "execution_count": 20,
     "metadata": {},
     "output_type": "execute_result"
    }
   ],
   "source": [
    "a[3]"
   ]
  },
  {
   "cell_type": "code",
   "execution_count": 21,
   "id": "c9a96688",
   "metadata": {},
   "outputs": [
    {
     "data": {
      "text/plain": [
       "1"
      ]
     },
     "execution_count": 21,
     "metadata": {},
     "output_type": "execute_result"
    }
   ],
   "source": [
    "b[0,0]"
   ]
  },
  {
   "cell_type": "code",
   "execution_count": 22,
   "id": "02d0dd9c",
   "metadata": {},
   "outputs": [
    {
     "data": {
      "text/plain": [
       "6"
      ]
     },
     "execution_count": 22,
     "metadata": {},
     "output_type": "execute_result"
    }
   ],
   "source": [
    "b[1,2]"
   ]
  },
  {
   "cell_type": "code",
   "execution_count": 24,
   "id": "6b7fb122",
   "metadata": {},
   "outputs": [
    {
     "data": {
      "text/plain": [
       "8"
      ]
     },
     "execution_count": 24,
     "metadata": {},
     "output_type": "execute_result"
    }
   ],
   "source": [
    "c = np.array([[9,8,7],[1,2,3]])\n",
    "c[0,1] #8"
   ]
  },
  {
   "cell_type": "code",
   "execution_count": 23,
   "id": "391cca20",
   "metadata": {},
   "outputs": [
    {
     "data": {
      "text/plain": [
       "array([9, 8])"
      ]
     },
     "execution_count": 23,
     "metadata": {},
     "output_type": "execute_result"
    }
   ],
   "source": [
    "d = np.array([[4,5,6],[9,8,7]])\n",
    "d[1,0:2] #array([9, 8])\n"
   ]
  },
  {
   "cell_type": "code",
   "execution_count": 26,
   "id": "871fe9b8",
   "metadata": {},
   "outputs": [
    {
     "data": {
      "text/plain": [
       "array([[10, 11],\n",
       "       [13, 14],\n",
       "       [16, 17]])"
      ]
     },
     "execution_count": 26,
     "metadata": {},
     "output_type": "execute_result"
    }
   ],
   "source": [
    "e = np.array([[10,11,12],[13,14,15],[16,17,18],[19,20,21]])\n",
    "#slicing\n",
    "e[:3,:2] #array\n",
    "        ([[10, 11],\n",
    "       [13, 14],\n",
    "       [16, 17]])\n"
   ]
  },
  {
   "cell_type": "markdown",
   "id": "fd093d46",
   "metadata": {},
   "source": [
    "ADVANCED METHOD"
   ]
  },
  {
   "cell_type": "code",
   "execution_count": 27,
   "id": "184f7c0c",
   "metadata": {},
   "outputs": [
    {
     "data": {
      "text/plain": [
       "array([18, 11, 19, 15])"
      ]
     },
     "execution_count": 27,
     "metadata": {},
     "output_type": "execute_result"
    }
   ],
   "source": [
    "e[[2,0,3,1],[2,1,0,2]] #array([18, 11, 19, 15])\n"
   ]
  },
  {
   "cell_type": "code",
   "execution_count": 28,
   "id": "41f4f749",
   "metadata": {},
   "outputs": [
    {
     "data": {
      "text/plain": [
       "array([16, 17, 18, 19, 20, 21])"
      ]
     },
     "execution_count": 28,
     "metadata": {},
     "output_type": "execute_result"
    }
   ],
   "source": [
    "e = np.array([[10,11,12],[13,14,15],[16,17,18],[19,20,21]])\n",
    "e[e>15] #array([16, 17, 18, 19, 20, 21])"
   ]
  },
  {
   "cell_type": "markdown",
   "id": "64063839",
   "metadata": {},
   "source": [
    "NUMPY also has inbuilt mathematical function like sum(),mean(), std(), corrcoef(), min(),max() and other\n",
    "File Input and Output With Arrays."
   ]
  },
  {
   "cell_type": "code",
   "execution_count": 29,
   "id": "eef495d9",
   "metadata": {},
   "outputs": [
    {
     "name": "stdout",
     "output_type": "stream",
     "text": [
      "0       MONDAY\n",
      "1      TUESDAY\n",
      "2    WEDNESDAY\n",
      "dtype: object\n"
     ]
    }
   ],
   "source": [
    "days = pd.Series(['MONDAY','TUESDAY','WEDNESDAY'])\n",
    "print(days) #\n",
    "# 0       MONDAY\n",
    "# 1      TUESDAY\n",
    "# 2    WEDNESDAY\n",
    "# dtype: object"
   ]
  },
  {
   "cell_type": "code",
   "execution_count": 30,
   "id": "aa9ddb9d",
   "metadata": {},
   "outputs": [
    {
     "name": "stdout",
     "output_type": "stream",
     "text": [
      "a       MONDAY\n",
      "b      TUESDAY\n",
      "c    WEDNESDAY\n",
      "dtype: object\n"
     ]
    }
   ],
   "source": [
    "#USING STRING AS INDEX\n",
    "days = pd.Series(['MONDAY','TUESDAY','WEDNESDAY'],index =['a','b','c'])\n",
    "print(days)\n",
    "# a       MONDAY\n",
    "# b      TUESDAY\n",
    "# c    WEDNESDAY\n",
    "# dtype: object"
   ]
  },
  {
   "cell_type": "code",
   "execution_count": 31,
   "id": "863d1dd5",
   "metadata": {},
   "outputs": [
    {
     "name": "stdout",
     "output_type": "stream",
     "text": [
      "a       MONDAY\n",
      "b      TUESDAY\n",
      "c    WEDNESDAY\n",
      "dtype: object\n"
     ]
    }
   ],
   "source": [
    "days1 = pd.Series({'a':'MONDAY','b':'TUESDAY','c':'WEDNESDAY'})\n",
    "print(days1)\n",
    "# a       MONDAY\n",
    "# b      TUESDAY\n",
    "# c    WEDNESDAY\n",
    "# dtype: object"
   ]
  },
  {
   "cell_type": "code",
   "execution_count": 33,
   "id": "13b48eab",
   "metadata": {},
   "outputs": [
    {
     "data": {
      "text/plain": [
       "'MONDAY'"
      ]
     },
     "execution_count": 33,
     "metadata": {},
     "output_type": "execute_result"
    }
   ],
   "source": [
    "days1[0] #'MONDAY'"
   ]
  },
  {
   "cell_type": "code",
   "execution_count": 34,
   "id": "570496f9",
   "metadata": {},
   "outputs": [
    {
     "data": {
      "text/plain": [
       "b      TUESDAY\n",
       "c    WEDNESDAY\n",
       "dtype: object"
      ]
     },
     "execution_count": 34,
     "metadata": {},
     "output_type": "execute_result"
    }
   ],
   "source": [
    "days1[1:]\n",
    "# b      TUESDAY\n",
    "# c    WEDNESDAY\n",
    "# dtype: object"
   ]
  },
  {
   "cell_type": "code",
   "execution_count": 35,
   "id": "4537dbd5",
   "metadata": {},
   "outputs": [
    {
     "data": {
      "text/plain": [
       "'WEDNESDAY'"
      ]
     },
     "execution_count": 35,
     "metadata": {},
     "output_type": "execute_result"
    }
   ],
   "source": [
    "days1['c'] #'WEDNESDAY'\n"
   ]
  },
  {
   "cell_type": "markdown",
   "id": "0f477e54",
   "metadata": {},
   "source": [
    "DATAFRAME"
   ]
  },
  {
   "cell_type": "code",
   "execution_count": 36,
   "id": "b6f26ac4",
   "metadata": {},
   "outputs": [
    {
     "name": "stdout",
     "output_type": "stream",
     "text": [
      "Empty DataFrame\n",
      "Columns: []\n",
      "Index: []\n"
     ]
    }
   ],
   "source": [
    "print(pd.DataFrame())\n",
    "\n",
    "# Empty DataFrame\n",
    "# Columns: []\n",
    "# Index: []"
   ]
  },
  {
   "cell_type": "markdown",
   "id": "254e2aec",
   "metadata": {},
   "source": [
    "CREATE A DATAFRAME FROM A DICTIONARY"
   ]
  },
  {
   "cell_type": "code",
   "execution_count": 40,
   "id": "6ce87fe3",
   "metadata": {},
   "outputs": [
    {
     "name": "stdout",
     "output_type": "stream",
     "text": [
      "   Country  Capital  Population  Age\n",
      "2    Ghana    Accra       10000   60\n",
      "4    Kenya  Nairobi        8500   70\n",
      "6  Nigeria    Abuja        3500   80\n",
      "8     Togo     Lome       12000   75\n"
     ]
    }
   ],
   "source": [
    "dict = {'Country':['Ghana','Kenya','Nigeria','Togo'],\n",
    "       'Capital':['Accra','Nairobi','Abuja','Lome'],\n",
    "        'Population':[10000,8500,3500,12000],\n",
    "        'Age':[60,70,80,75]\n",
    "       }\n",
    "df =pd.DataFrame(dict,index = [2,4,6,8])\n",
    "print(df)\n",
    "# Country  Capital  Population  Age\n",
    "# 2    Ghana    Accra       10000   60\n",
    "# 4    Kenya  Nairobi        8500   70\n",
    "# 6  Nigeria    Abuja        3500   80\n",
    "# 8     Togo     Lome       12000   75"
   ]
  },
  {
   "cell_type": "code",
   "execution_count": 41,
   "id": "95a53228",
   "metadata": {},
   "outputs": [
    {
     "data": {
      "text/plain": [
       "Country       Nigeria\n",
       "Capital         Abuja\n",
       "Population       3500\n",
       "Age                80\n",
       "Name: 6, dtype: object"
      ]
     },
     "execution_count": 41,
     "metadata": {},
     "output_type": "execute_result"
    }
   ],
   "source": [
    "#SELECT ROW WITH INDEX LABEL\n",
    "df.loc[6]\n",
    "# Country       Nigeria\n",
    "# Capital         Abuja\n",
    "# Population       3500\n",
    "# Age                80\n",
    "# Name: 6, dtype: object"
   ]
  },
  {
   "cell_type": "code",
   "execution_count": 46,
   "id": "88c1f5e4",
   "metadata": {},
   "outputs": [
    {
     "data": {
      "text/plain": [
       "Country        Togo\n",
       "Capital        Lome\n",
       "Population    12000\n",
       "Age              75\n",
       "Name: 8, dtype: object"
      ]
     },
     "execution_count": 46,
     "metadata": {},
     "output_type": "execute_result"
    }
   ],
   "source": [
    "#SELECT THE ROW IN THE AT INDEX 3\n",
    "df.iloc[3]\n",
    "Country        Togo\n",
    "Capital        Lome\n",
    "Population    12000\n",
    "Age              75\n",
    "Name: 8, dtype: object"
   ]
  },
  {
   "cell_type": "code",
   "execution_count": 47,
   "id": "d8e50257",
   "metadata": {},
   "outputs": [
    {
     "data": {
      "text/plain": [
       "2      Accra\n",
       "4    Nairobi\n",
       "6      Abuja\n",
       "8       Lome\n",
       "Name: Capital, dtype: object"
      ]
     },
     "execution_count": 47,
     "metadata": {},
     "output_type": "execute_result"
    }
   ],
   "source": [
    "#SELECT THE CAPITAL COLUMN\n",
    "df['Capital']\n",
    "# 2      Accra\n",
    "# 4    Nairobi\n",
    "# 6      Abuja\n",
    "# 8       Lome\n",
    "# Name: Capital, dtype: object"
   ]
  },
  {
   "cell_type": "code",
   "execution_count": 48,
   "id": "afa95353",
   "metadata": {},
   "outputs": [
    {
     "data": {
      "text/plain": [
       "'Nigeria'"
      ]
     },
     "execution_count": 48,
     "metadata": {},
     "output_type": "execute_result"
    }
   ],
   "source": [
    "df.at[6,'Country'] #'Nigeria'"
   ]
  },
  {
   "cell_type": "code",
   "execution_count": 49,
   "id": "3ab43c25",
   "metadata": {},
   "outputs": [
    {
     "data": {
      "text/plain": [
       "'Nigeria'"
      ]
     },
     "execution_count": 49,
     "metadata": {},
     "output_type": "execute_result"
    }
   ],
   "source": [
    "df.iat[2,0] #'Nigeria'"
   ]
  },
  {
   "cell_type": "code",
   "execution_count": 50,
   "id": "96a6d7af",
   "metadata": {},
   "outputs": [
    {
     "data": {
      "text/plain": [
       "Population    8500.00\n",
       "Age             71.25\n",
       "dtype: float64"
      ]
     },
     "execution_count": 50,
     "metadata": {},
     "output_type": "execute_result"
    }
   ],
   "source": [
    "df.mean()"
   ]
  },
  {
   "cell_type": "code",
   "execution_count": 51,
   "id": "3169a7d9",
   "metadata": {},
   "outputs": [
    {
     "data": {
      "text/plain": [
       "Country       Ghana\n",
       "Capital       Abuja\n",
       "Population     3500\n",
       "Age              60\n",
       "dtype: object"
      ]
     },
     "execution_count": 51,
     "metadata": {},
     "output_type": "execute_result"
    }
   ],
   "source": [
    "df.min()"
   ]
  },
  {
   "cell_type": "code",
   "execution_count": 52,
   "id": "3c599bb6",
   "metadata": {},
   "outputs": [
    {
     "data": {
      "text/html": [
       "<div>\n",
       "<style scoped>\n",
       "    .dataframe tbody tr th:only-of-type {\n",
       "        vertical-align: middle;\n",
       "    }\n",
       "\n",
       "    .dataframe tbody tr th {\n",
       "        vertical-align: top;\n",
       "    }\n",
       "\n",
       "    .dataframe thead th {\n",
       "        text-align: right;\n",
       "    }\n",
       "</style>\n",
       "<table border=\"1\" class=\"dataframe\">\n",
       "  <thead>\n",
       "    <tr style=\"text-align: right;\">\n",
       "      <th></th>\n",
       "      <th>Population</th>\n",
       "      <th>Age</th>\n",
       "    </tr>\n",
       "  </thead>\n",
       "  <tbody>\n",
       "    <tr>\n",
       "      <th>count</th>\n",
       "      <td>4.000000</td>\n",
       "      <td>4.000000</td>\n",
       "    </tr>\n",
       "    <tr>\n",
       "      <th>mean</th>\n",
       "      <td>8500.000000</td>\n",
       "      <td>71.250000</td>\n",
       "    </tr>\n",
       "    <tr>\n",
       "      <th>std</th>\n",
       "      <td>3628.590176</td>\n",
       "      <td>8.539126</td>\n",
       "    </tr>\n",
       "    <tr>\n",
       "      <th>min</th>\n",
       "      <td>3500.000000</td>\n",
       "      <td>60.000000</td>\n",
       "    </tr>\n",
       "    <tr>\n",
       "      <th>25%</th>\n",
       "      <td>7250.000000</td>\n",
       "      <td>67.500000</td>\n",
       "    </tr>\n",
       "    <tr>\n",
       "      <th>50%</th>\n",
       "      <td>9250.000000</td>\n",
       "      <td>72.500000</td>\n",
       "    </tr>\n",
       "    <tr>\n",
       "      <th>75%</th>\n",
       "      <td>10500.000000</td>\n",
       "      <td>76.250000</td>\n",
       "    </tr>\n",
       "    <tr>\n",
       "      <th>max</th>\n",
       "      <td>12000.000000</td>\n",
       "      <td>80.000000</td>\n",
       "    </tr>\n",
       "  </tbody>\n",
       "</table>\n",
       "</div>"
      ],
      "text/plain": [
       "         Population        Age\n",
       "count      4.000000   4.000000\n",
       "mean    8500.000000  71.250000\n",
       "std     3628.590176   8.539126\n",
       "min     3500.000000  60.000000\n",
       "25%     7250.000000  67.500000\n",
       "50%     9250.000000  72.500000\n",
       "75%    10500.000000  76.250000\n",
       "max    12000.000000  80.000000"
      ]
     },
     "execution_count": 52,
     "metadata": {},
     "output_type": "execute_result"
    }
   ],
   "source": [
    "df.describe()"
   ]
  },
  {
   "cell_type": "code",
   "execution_count": 55,
   "id": "037529ea",
   "metadata": {},
   "outputs": [
    {
     "data": {
      "text/html": [
       "<div>\n",
       "<style scoped>\n",
       "    .dataframe tbody tr th:only-of-type {\n",
       "        vertical-align: middle;\n",
       "    }\n",
       "\n",
       "    .dataframe tbody tr th {\n",
       "        vertical-align: top;\n",
       "    }\n",
       "\n",
       "    .dataframe thead th {\n",
       "        text-align: right;\n",
       "    }\n",
       "</style>\n",
       "<table border=\"1\" class=\"dataframe\">\n",
       "  <thead>\n",
       "    <tr style=\"text-align: right;\">\n",
       "      <th></th>\n",
       "      <th>Country</th>\n",
       "      <th>Capital</th>\n",
       "      <th>Population</th>\n",
       "      <th>Age</th>\n",
       "    </tr>\n",
       "  </thead>\n",
       "  <tbody>\n",
       "    <tr>\n",
       "      <th>4</th>\n",
       "      <td>Kenya</td>\n",
       "      <td>Nairobi</td>\n",
       "      <td>8500</td>\n",
       "      <td>70</td>\n",
       "    </tr>\n",
       "    <tr>\n",
       "      <th>6</th>\n",
       "      <td>Nigeria</td>\n",
       "      <td>Abuja</td>\n",
       "      <td>3500</td>\n",
       "      <td>80</td>\n",
       "    </tr>\n",
       "    <tr>\n",
       "      <th>8</th>\n",
       "      <td>Togo</td>\n",
       "      <td>Lome</td>\n",
       "      <td>12000</td>\n",
       "      <td>75</td>\n",
       "    </tr>\n",
       "  </tbody>\n",
       "</table>\n",
       "</div>"
      ],
      "text/plain": [
       "   Country  Capital  Population  Age\n",
       "4    Kenya  Nairobi        8500   70\n",
       "6  Nigeria    Abuja        3500   80\n",
       "8     Togo     Lome       12000   75"
      ]
     },
     "execution_count": 55,
     "metadata": {},
     "output_type": "execute_result"
    }
   ],
   "source": [
    "#select the age that is greater than 60\n",
    "df[df.Age>60]\n",
    "# Country\tCapital\tPopulation\tAge\n",
    "# 4\tKenya\tNairobi\t8500\t70\n",
    "# 6\tNigeria\tAbuja\t3500\t80\n",
    "# 8\tTogo\tLome\t12000\t75"
   ]
  },
  {
   "cell_type": "code",
   "execution_count": 56,
   "id": "0b1ef93d",
   "metadata": {},
   "outputs": [
    {
     "data": {
      "text/html": [
       "<div>\n",
       "<style scoped>\n",
       "    .dataframe tbody tr th:only-of-type {\n",
       "        vertical-align: middle;\n",
       "    }\n",
       "\n",
       "    .dataframe tbody tr th {\n",
       "        vertical-align: top;\n",
       "    }\n",
       "\n",
       "    .dataframe thead th {\n",
       "        text-align: right;\n",
       "    }\n",
       "</style>\n",
       "<table border=\"1\" class=\"dataframe\">\n",
       "  <thead>\n",
       "    <tr style=\"text-align: right;\">\n",
       "      <th></th>\n",
       "      <th>Country</th>\n",
       "      <th>Capital</th>\n",
       "      <th>Population</th>\n",
       "      <th>Age</th>\n",
       "    </tr>\n",
       "  </thead>\n",
       "  <tbody>\n",
       "    <tr>\n",
       "      <th>6</th>\n",
       "      <td>Nigeria</td>\n",
       "      <td>Abuja</td>\n",
       "      <td>3500</td>\n",
       "      <td>80</td>\n",
       "    </tr>\n",
       "  </tbody>\n",
       "</table>\n",
       "</div>"
      ],
      "text/plain": [
       "   Country Capital  Population  Age\n",
       "6  Nigeria   Abuja        3500   80"
      ]
     },
     "execution_count": 56,
     "metadata": {},
     "output_type": "execute_result"
    }
   ],
   "source": [
    "df[df.Age>75]\n",
    "\tCountry\tCapital\tPopulation\tAge\n",
    "6\tNigeria\tAbuja\t3500\t80"
   ]
  },
  {
   "cell_type": "code",
   "execution_count": 58,
   "id": "3bb62264",
   "metadata": {},
   "outputs": [
    {
     "data": {
      "text/plain": [
       "(4, 4)"
      ]
     },
     "execution_count": 58,
     "metadata": {},
     "output_type": "execute_result"
    }
   ],
   "source": [
    "df.shape#(4, 4)"
   ]
  },
  {
   "cell_type": "code",
   "execution_count": 59,
   "id": "3905e5b2",
   "metadata": {},
   "outputs": [
    {
     "data": {
      "text/plain": [
       "Index(['Country', 'Capital', 'Population', 'Age'], dtype='object')"
      ]
     },
     "execution_count": 59,
     "metadata": {},
     "output_type": "execute_result"
    }
   ],
   "source": [
    "df.columns#Index(['Country', 'Capital', 'Population', 'Age'], dtype='object')\n"
   ]
  },
  {
   "cell_type": "code",
   "execution_count": 82,
   "id": "4707b546",
   "metadata": {},
   "outputs": [
    {
     "data": {
      "text/html": [
       "<div>\n",
       "<style scoped>\n",
       "    .dataframe tbody tr th:only-of-type {\n",
       "        vertical-align: middle;\n",
       "    }\n",
       "\n",
       "    .dataframe tbody tr th {\n",
       "        vertical-align: top;\n",
       "    }\n",
       "\n",
       "    .dataframe thead th {\n",
       "        text-align: right;\n",
       "    }\n",
       "</style>\n",
       "<table border=\"1\" class=\"dataframe\">\n",
       "  <thead>\n",
       "    <tr style=\"text-align: right;\">\n",
       "      <th></th>\n",
       "      <th>Country</th>\n",
       "      <th>Capital</th>\n",
       "      <th>Population</th>\n",
       "      <th>Age</th>\n",
       "    </tr>\n",
       "  </thead>\n",
       "  <tbody>\n",
       "    <tr>\n",
       "      <th>2</th>\n",
       "      <td>Ghana</td>\n",
       "      <td>Accra</td>\n",
       "      <td>10000</td>\n",
       "      <td>60</td>\n",
       "    </tr>\n",
       "    <tr>\n",
       "      <th>4</th>\n",
       "      <td>Kenya</td>\n",
       "      <td>Nairobi</td>\n",
       "      <td>8500</td>\n",
       "      <td>70</td>\n",
       "    </tr>\n",
       "    <tr>\n",
       "      <th>6</th>\n",
       "      <td>Nigeria</td>\n",
       "      <td>Abuja</td>\n",
       "      <td>3500</td>\n",
       "      <td>80</td>\n",
       "    </tr>\n",
       "    <tr>\n",
       "      <th>8</th>\n",
       "      <td>Togo</td>\n",
       "      <td>Lome</td>\n",
       "      <td>12000</td>\n",
       "      <td>75</td>\n",
       "    </tr>\n",
       "  </tbody>\n",
       "</table>\n",
       "</div>"
      ],
      "text/plain": [
       "   Country  Capital  Population  Age\n",
       "2    Ghana    Accra       10000   60\n",
       "4    Kenya  Nairobi        8500   70\n",
       "6  Nigeria    Abuja        3500   80\n",
       "8     Togo     Lome       12000   75"
      ]
     },
     "execution_count": 82,
     "metadata": {},
     "output_type": "execute_result"
    }
   ],
   "source": [
    "df"
   ]
  },
  {
   "cell_type": "code",
   "execution_count": 89,
   "id": "97afade6",
   "metadata": {},
   "outputs": [
    {
     "data": {
      "image/png": "[encoded data removed]",
      "text/plain": [
       "<Figure size 432x288 with 1 Axes>"
      ]
     },
     "metadata": {
      "needs_background": "light"
     },
     "output_type": "display_data"
    }
   ],
   "source": [
    "plt.plot(df['Age'],kind = %hist)\n",
    "plt.show()"
   ]
  },
  {
   "cell_type": "code",
   "execution_count": null,
   "id": "61439062",
   "metadata": {},
   "outputs": [],
   "source": []
  }
 ],
 "metadata": {
  "kernelspec": {
   "display_name": "Python 3",
   "language": "python",
   "name": "python3"
  },
  "language_info": {
   "codemirror_mode": {
    "name": "ipython",
    "version": 3
   },
   "file_extension": ".py",
   "mimetype": "text/x-python",
   "name": "python",
   "nbconvert_exporter": "python",
   "pygments_lexer": "ipython3",
   "version": "3.8.8"
  }
 },
 "nbformat": 4,
 "nbformat_minor": 5
}
